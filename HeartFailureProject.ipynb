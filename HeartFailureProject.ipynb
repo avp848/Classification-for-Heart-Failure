{
  "nbformat": 4,
  "nbformat_minor": 0,
  "metadata": {
    "colab": {
      "provenance": [],
      "authorship_tag": "ABX9TyMKNdHqk6kcAYySMqkEgoGa",
      "include_colab_link": true
    },
    "kernelspec": {
      "name": "python3",
      "display_name": "Python 3"
    },
    "language_info": {
      "name": "python"
    }
  },
  "cells": [
    {
      "cell_type": "markdown",
      "metadata": {
        "id": "view-in-github",
        "colab_type": "text"
      },
      "source": [
        "<a href=\"https://colab.research.google.com/github/avp848/Classification-for-Heart-Failure/blob/main/HeartFailureProject.ipynb\" target=\"_parent\"><img src=\"https://colab.research.google.com/assets/colab-badge.svg\" alt=\"Open In Colab\"/></a>"
      ]
    },
    {
      "cell_type": "code",
      "source": [
        "import pandas as pd\n",
        "import numpy as np\n",
        "import matplotlib.pyplot as plt\n",
        "import seaborn as sns\n",
        "sns.set()"
      ],
      "metadata": {
        "id": "BTnyBeVbUvMi"
      },
      "execution_count": null,
      "outputs": []
    },
    {
      "cell_type": "code",
      "source": [
        "df = pd.read_csv('/content/heart_statlog_cleveland_hungary_final.csv')\n",
        "df.head()"
      ],
      "metadata": {
        "colab": {
          "base_uri": "https://localhost:8080/",
          "height": 206
        },
        "id": "9nLdI9VAclDS",
        "outputId": "111da3a4-d6b4-4340-b6d9-d2287fe6a900"
      },
      "execution_count": null,
      "outputs": [
        {
          "output_type": "execute_result",
          "data": {
            "text/plain": [
              "   age  sex  chest pain type  resting bp s  cholesterol  fasting blood sugar  \\\n",
              "0   40    1                2           140          289                    0   \n",
              "1   49    0                3           160          180                    0   \n",
              "2   37    1                2           130          283                    0   \n",
              "3   48    0                4           138          214                    0   \n",
              "4   54    1                3           150          195                    0   \n",
              "\n",
              "   resting ecg  max heart rate  exercise angina  oldpeak  ST slope  target  \n",
              "0            0             172                0      0.0         1       0  \n",
              "1            0             156                0      1.0         2       1  \n",
              "2            1              98                0      0.0         1       0  \n",
              "3            0             108                1      1.5         2       1  \n",
              "4            0             122                0      0.0         1       0  "
            ],
            "text/html": [
              "\n",
              "  <div id=\"df-fd404332-2707-4417-832b-0b9dc63110d8\">\n",
              "    <div class=\"colab-df-container\">\n",
              "      <div>\n",
              "<style scoped>\n",
              "    .dataframe tbody tr th:only-of-type {\n",
              "        vertical-align: middle;\n",
              "    }\n",
              "\n",
              "    .dataframe tbody tr th {\n",
              "        vertical-align: top;\n",
              "    }\n",
              "\n",
              "    .dataframe thead th {\n",
              "        text-align: right;\n",
              "    }\n",
              "</style>\n",
              "<table border=\"1\" class=\"dataframe\">\n",
              "  <thead>\n",
              "    <tr style=\"text-align: right;\">\n",
              "      <th></th>\n",
              "      <th>age</th>\n",
              "      <th>sex</th>\n",
              "      <th>chest pain type</th>\n",
              "      <th>resting bp s</th>\n",
              "      <th>cholesterol</th>\n",
              "      <th>fasting blood sugar</th>\n",
              "      <th>resting ecg</th>\n",
              "      <th>max heart rate</th>\n",
              "      <th>exercise angina</th>\n",
              "      <th>oldpeak</th>\n",
              "      <th>ST slope</th>\n",
              "      <th>target</th>\n",
              "    </tr>\n",
              "  </thead>\n",
              "  <tbody>\n",
              "    <tr>\n",
              "      <th>0</th>\n",
              "      <td>40</td>\n",
              "      <td>1</td>\n",
              "      <td>2</td>\n",
              "      <td>140</td>\n",
              "      <td>289</td>\n",
              "      <td>0</td>\n",
              "      <td>0</td>\n",
              "      <td>172</td>\n",
              "      <td>0</td>\n",
              "      <td>0.0</td>\n",
              "      <td>1</td>\n",
              "      <td>0</td>\n",
              "    </tr>\n",
              "    <tr>\n",
              "      <th>1</th>\n",
              "      <td>49</td>\n",
              "      <td>0</td>\n",
              "      <td>3</td>\n",
              "      <td>160</td>\n",
              "      <td>180</td>\n",
              "      <td>0</td>\n",
              "      <td>0</td>\n",
              "      <td>156</td>\n",
              "      <td>0</td>\n",
              "      <td>1.0</td>\n",
              "      <td>2</td>\n",
              "      <td>1</td>\n",
              "    </tr>\n",
              "    <tr>\n",
              "      <th>2</th>\n",
              "      <td>37</td>\n",
              "      <td>1</td>\n",
              "      <td>2</td>\n",
              "      <td>130</td>\n",
              "      <td>283</td>\n",
              "      <td>0</td>\n",
              "      <td>1</td>\n",
              "      <td>98</td>\n",
              "      <td>0</td>\n",
              "      <td>0.0</td>\n",
              "      <td>1</td>\n",
              "      <td>0</td>\n",
              "    </tr>\n",
              "    <tr>\n",
              "      <th>3</th>\n",
              "      <td>48</td>\n",
              "      <td>0</td>\n",
              "      <td>4</td>\n",
              "      <td>138</td>\n",
              "      <td>214</td>\n",
              "      <td>0</td>\n",
              "      <td>0</td>\n",
              "      <td>108</td>\n",
              "      <td>1</td>\n",
              "      <td>1.5</td>\n",
              "      <td>2</td>\n",
              "      <td>1</td>\n",
              "    </tr>\n",
              "    <tr>\n",
              "      <th>4</th>\n",
              "      <td>54</td>\n",
              "      <td>1</td>\n",
              "      <td>3</td>\n",
              "      <td>150</td>\n",
              "      <td>195</td>\n",
              "      <td>0</td>\n",
              "      <td>0</td>\n",
              "      <td>122</td>\n",
              "      <td>0</td>\n",
              "      <td>0.0</td>\n",
              "      <td>1</td>\n",
              "      <td>0</td>\n",
              "    </tr>\n",
              "  </tbody>\n",
              "</table>\n",
              "</div>\n",
              "      <button class=\"colab-df-convert\" onclick=\"convertToInteractive('df-fd404332-2707-4417-832b-0b9dc63110d8')\"\n",
              "              title=\"Convert this dataframe to an interactive table.\"\n",
              "              style=\"display:none;\">\n",
              "        \n",
              "  <svg xmlns=\"http://www.w3.org/2000/svg\" height=\"24px\"viewBox=\"0 0 24 24\"\n",
              "       width=\"24px\">\n",
              "    <path d=\"M0 0h24v24H0V0z\" fill=\"none\"/>\n",
              "    <path d=\"M18.56 5.44l.94 2.06.94-2.06 2.06-.94-2.06-.94-.94-2.06-.94 2.06-2.06.94zm-11 1L8.5 8.5l.94-2.06 2.06-.94-2.06-.94L8.5 2.5l-.94 2.06-2.06.94zm10 10l.94 2.06.94-2.06 2.06-.94-2.06-.94-.94-2.06-.94 2.06-2.06.94z\"/><path d=\"M17.41 7.96l-1.37-1.37c-.4-.4-.92-.59-1.43-.59-.52 0-1.04.2-1.43.59L10.3 9.45l-7.72 7.72c-.78.78-.78 2.05 0 2.83L4 21.41c.39.39.9.59 1.41.59.51 0 1.02-.2 1.41-.59l7.78-7.78 2.81-2.81c.8-.78.8-2.07 0-2.86zM5.41 20L4 18.59l7.72-7.72 1.47 1.35L5.41 20z\"/>\n",
              "  </svg>\n",
              "      </button>\n",
              "      \n",
              "  <style>\n",
              "    .colab-df-container {\n",
              "      display:flex;\n",
              "      flex-wrap:wrap;\n",
              "      gap: 12px;\n",
              "    }\n",
              "\n",
              "    .colab-df-convert {\n",
              "      background-color: #E8F0FE;\n",
              "      border: none;\n",
              "      border-radius: 50%;\n",
              "      cursor: pointer;\n",
              "      display: none;\n",
              "      fill: #1967D2;\n",
              "      height: 32px;\n",
              "      padding: 0 0 0 0;\n",
              "      width: 32px;\n",
              "    }\n",
              "\n",
              "    .colab-df-convert:hover {\n",
              "      background-color: #E2EBFA;\n",
              "      box-shadow: 0px 1px 2px rgba(60, 64, 67, 0.3), 0px 1px 3px 1px rgba(60, 64, 67, 0.15);\n",
              "      fill: #174EA6;\n",
              "    }\n",
              "\n",
              "    [theme=dark] .colab-df-convert {\n",
              "      background-color: #3B4455;\n",
              "      fill: #D2E3FC;\n",
              "    }\n",
              "\n",
              "    [theme=dark] .colab-df-convert:hover {\n",
              "      background-color: #434B5C;\n",
              "      box-shadow: 0px 1px 3px 1px rgba(0, 0, 0, 0.15);\n",
              "      filter: drop-shadow(0px 1px 2px rgba(0, 0, 0, 0.3));\n",
              "      fill: #FFFFFF;\n",
              "    }\n",
              "  </style>\n",
              "\n",
              "      <script>\n",
              "        const buttonEl =\n",
              "          document.querySelector('#df-fd404332-2707-4417-832b-0b9dc63110d8 button.colab-df-convert');\n",
              "        buttonEl.style.display =\n",
              "          google.colab.kernel.accessAllowed ? 'block' : 'none';\n",
              "\n",
              "        async function convertToInteractive(key) {\n",
              "          const element = document.querySelector('#df-fd404332-2707-4417-832b-0b9dc63110d8');\n",
              "          const dataTable =\n",
              "            await google.colab.kernel.invokeFunction('convertToInteractive',\n",
              "                                                     [key], {});\n",
              "          if (!dataTable) return;\n",
              "\n",
              "          const docLinkHtml = 'Like what you see? Visit the ' +\n",
              "            '<a target=\"_blank\" href=https://colab.research.google.com/notebooks/data_table.ipynb>data table notebook</a>'\n",
              "            + ' to learn more about interactive tables.';\n",
              "          element.innerHTML = '';\n",
              "          dataTable['output_type'] = 'display_data';\n",
              "          await google.colab.output.renderOutput(dataTable, element);\n",
              "          const docLink = document.createElement('div');\n",
              "          docLink.innerHTML = docLinkHtml;\n",
              "          element.appendChild(docLink);\n",
              "        }\n",
              "      </script>\n",
              "    </div>\n",
              "  </div>\n",
              "  "
            ]
          },
          "metadata": {},
          "execution_count": 38
        }
      ]
    },
    {
      "cell_type": "code",
      "source": [
        "df['resting_bp_s'] = df['resting bp s']\n",
        "df.drop(columns = ['resting bp s'], inplace = True)"
      ],
      "metadata": {
        "id": "WTcXFz0bcIKr"
      },
      "execution_count": null,
      "outputs": []
    },
    {
      "cell_type": "code",
      "source": [
        "nominal = ['chest pain type', 'resting ecg', 'ST slope']\n",
        "not_nominal = ['age', 'sex', 'cholesterol', 'fasting blood sugar', 'max heart rate', 'exercise angina', 'oldpeak', 'target']"
      ],
      "metadata": {
        "id": "fuU5vLT1czlI"
      },
      "execution_count": null,
      "outputs": []
    },
    {
      "cell_type": "code",
      "source": [
        "# nominal_df = df[nominal].copy(deep = True)\n",
        "# not_nominal_df = df[not_nominal].copy(deep = True)"
      ],
      "metadata": {
        "id": "HonN1ACcczJ1"
      },
      "execution_count": null,
      "outputs": []
    },
    {
      "cell_type": "code",
      "source": [
        "final_df = pd.get_dummies(df, columns = nominal)\n",
        "print(final_df)"
      ],
      "metadata": {
        "colab": {
          "base_uri": "https://localhost:8080/"
        },
        "id": "z1Tv23FOeXkJ",
        "outputId": "3caa30b7-e8e0-4d26-89cc-7281baef754f"
      },
      "execution_count": null,
      "outputs": [
        {
          "output_type": "stream",
          "name": "stdout",
          "text": [
            "      age  sex  cholesterol  fasting blood sugar  max heart rate  \\\n",
            "0      40    1          289                    0             172   \n",
            "1      49    0          180                    0             156   \n",
            "2      37    1          283                    0              98   \n",
            "3      48    0          214                    0             108   \n",
            "4      54    1          195                    0             122   \n",
            "...   ...  ...          ...                  ...             ...   \n",
            "1185   45    1          264                    0             132   \n",
            "1186   68    1          193                    1             141   \n",
            "1187   57    1          131                    0             115   \n",
            "1188   57    0          236                    0             174   \n",
            "1189   38    1          175                    0             173   \n",
            "\n",
            "      exercise angina  oldpeak  target  resting_bp_s  chest pain type_1  \\\n",
            "0                   0      0.0       0           140                  0   \n",
            "1                   0      1.0       1           160                  0   \n",
            "2                   0      0.0       0           130                  0   \n",
            "3                   1      1.5       1           138                  0   \n",
            "4                   0      0.0       0           150                  0   \n",
            "...               ...      ...     ...           ...                ...   \n",
            "1185                0      1.2       1           110                  1   \n",
            "1186                0      3.4       1           144                  0   \n",
            "1187                1      1.2       1           130                  0   \n",
            "1188                0      0.0       1           130                  0   \n",
            "1189                0      0.0       0           138                  0   \n",
            "\n",
            "      chest pain type_2  chest pain type_3  chest pain type_4  resting ecg_0  \\\n",
            "0                     1                  0                  0              1   \n",
            "1                     0                  1                  0              1   \n",
            "2                     1                  0                  0              0   \n",
            "3                     0                  0                  1              1   \n",
            "4                     0                  1                  0              1   \n",
            "...                 ...                ...                ...            ...   \n",
            "1185                  0                  0                  0              1   \n",
            "1186                  0                  0                  1              1   \n",
            "1187                  0                  0                  1              1   \n",
            "1188                  1                  0                  0              0   \n",
            "1189                  0                  1                  0              1   \n",
            "\n",
            "      resting ecg_1  resting ecg_2  ST slope_0  ST slope_1  ST slope_2  \\\n",
            "0                 0              0           0           1           0   \n",
            "1                 0              0           0           0           1   \n",
            "2                 1              0           0           1           0   \n",
            "3                 0              0           0           0           1   \n",
            "4                 0              0           0           1           0   \n",
            "...             ...            ...         ...         ...         ...   \n",
            "1185              0              0           0           0           1   \n",
            "1186              0              0           0           0           1   \n",
            "1187              0              0           0           0           1   \n",
            "1188              0              1           0           0           1   \n",
            "1189              0              0           0           1           0   \n",
            "\n",
            "      ST slope_3  \n",
            "0              0  \n",
            "1              0  \n",
            "2              0  \n",
            "3              0  \n",
            "4              0  \n",
            "...          ...  \n",
            "1185           0  \n",
            "1186           0  \n",
            "1187           0  \n",
            "1188           0  \n",
            "1189           0  \n",
            "\n",
            "[1190 rows x 20 columns]\n"
          ]
        }
      ]
    },
    {
      "cell_type": "code",
      "source": [
        "training_columns = final_df.columns.tolist()\n",
        "training_columns.remove('target')\n",
        "\n",
        "y = final_df['target']\n",
        "X = final_df[training_columns]"
      ],
      "metadata": {
        "id": "xTxZM03KeC3m"
      },
      "execution_count": null,
      "outputs": []
    },
    {
      "cell_type": "code",
      "source": [
        "df.query('target==1')"
      ],
      "metadata": {
        "id": "aWMwx8QYVObY",
        "colab": {
          "base_uri": "https://localhost:8080/",
          "height": 424
        },
        "outputId": "5b7de507-9128-46be-90c8-b18454b66ce4"
      },
      "execution_count": null,
      "outputs": [
        {
          "output_type": "execute_result",
          "data": {
            "text/plain": [
              "      age  sex  chest pain type  cholesterol  fasting blood sugar  \\\n",
              "1      49    0                3          180                    0   \n",
              "3      48    0                4          214                    0   \n",
              "8      37    1                4          207                    0   \n",
              "11     58    1                2          164                    0   \n",
              "13     49    1                4          234                    0   \n",
              "...   ...  ...              ...          ...                  ...   \n",
              "1184   57    0                4          241                    0   \n",
              "1185   45    1                1          264                    0   \n",
              "1186   68    1                4          193                    1   \n",
              "1187   57    1                4          131                    0   \n",
              "1188   57    0                2          236                    0   \n",
              "\n",
              "      resting ecg  max heart rate  exercise angina  oldpeak  ST slope  target  \\\n",
              "1               0             156                0      1.0         2       1   \n",
              "3               0             108                1      1.5         2       1   \n",
              "8               0             130                1      1.5         2       1   \n",
              "11              1              99                1      2.0         2       1   \n",
              "13              0             140                1      1.0         2       1   \n",
              "...           ...             ...              ...      ...       ...     ...   \n",
              "1184            0             123                1      0.2         2       1   \n",
              "1185            0             132                0      1.2         2       1   \n",
              "1186            0             141                0      3.4         2       1   \n",
              "1187            0             115                1      1.2         2       1   \n",
              "1188            2             174                0      0.0         2       1   \n",
              "\n",
              "      resting_bp_s  \n",
              "1              160  \n",
              "3              138  \n",
              "8              140  \n",
              "11             136  \n",
              "13             140  \n",
              "...            ...  \n",
              "1184           140  \n",
              "1185           110  \n",
              "1186           144  \n",
              "1187           130  \n",
              "1188           130  \n",
              "\n",
              "[629 rows x 12 columns]"
            ],
            "text/html": [
              "\n",
              "  <div id=\"df-4127c41a-3de7-4d31-a5d5-cc9920aa1bbf\">\n",
              "    <div class=\"colab-df-container\">\n",
              "      <div>\n",
              "<style scoped>\n",
              "    .dataframe tbody tr th:only-of-type {\n",
              "        vertical-align: middle;\n",
              "    }\n",
              "\n",
              "    .dataframe tbody tr th {\n",
              "        vertical-align: top;\n",
              "    }\n",
              "\n",
              "    .dataframe thead th {\n",
              "        text-align: right;\n",
              "    }\n",
              "</style>\n",
              "<table border=\"1\" class=\"dataframe\">\n",
              "  <thead>\n",
              "    <tr style=\"text-align: right;\">\n",
              "      <th></th>\n",
              "      <th>age</th>\n",
              "      <th>sex</th>\n",
              "      <th>chest pain type</th>\n",
              "      <th>cholesterol</th>\n",
              "      <th>fasting blood sugar</th>\n",
              "      <th>resting ecg</th>\n",
              "      <th>max heart rate</th>\n",
              "      <th>exercise angina</th>\n",
              "      <th>oldpeak</th>\n",
              "      <th>ST slope</th>\n",
              "      <th>target</th>\n",
              "      <th>resting_bp_s</th>\n",
              "    </tr>\n",
              "  </thead>\n",
              "  <tbody>\n",
              "    <tr>\n",
              "      <th>1</th>\n",
              "      <td>49</td>\n",
              "      <td>0</td>\n",
              "      <td>3</td>\n",
              "      <td>180</td>\n",
              "      <td>0</td>\n",
              "      <td>0</td>\n",
              "      <td>156</td>\n",
              "      <td>0</td>\n",
              "      <td>1.0</td>\n",
              "      <td>2</td>\n",
              "      <td>1</td>\n",
              "      <td>160</td>\n",
              "    </tr>\n",
              "    <tr>\n",
              "      <th>3</th>\n",
              "      <td>48</td>\n",
              "      <td>0</td>\n",
              "      <td>4</td>\n",
              "      <td>214</td>\n",
              "      <td>0</td>\n",
              "      <td>0</td>\n",
              "      <td>108</td>\n",
              "      <td>1</td>\n",
              "      <td>1.5</td>\n",
              "      <td>2</td>\n",
              "      <td>1</td>\n",
              "      <td>138</td>\n",
              "    </tr>\n",
              "    <tr>\n",
              "      <th>8</th>\n",
              "      <td>37</td>\n",
              "      <td>1</td>\n",
              "      <td>4</td>\n",
              "      <td>207</td>\n",
              "      <td>0</td>\n",
              "      <td>0</td>\n",
              "      <td>130</td>\n",
              "      <td>1</td>\n",
              "      <td>1.5</td>\n",
              "      <td>2</td>\n",
              "      <td>1</td>\n",
              "      <td>140</td>\n",
              "    </tr>\n",
              "    <tr>\n",
              "      <th>11</th>\n",
              "      <td>58</td>\n",
              "      <td>1</td>\n",
              "      <td>2</td>\n",
              "      <td>164</td>\n",
              "      <td>0</td>\n",
              "      <td>1</td>\n",
              "      <td>99</td>\n",
              "      <td>1</td>\n",
              "      <td>2.0</td>\n",
              "      <td>2</td>\n",
              "      <td>1</td>\n",
              "      <td>136</td>\n",
              "    </tr>\n",
              "    <tr>\n",
              "      <th>13</th>\n",
              "      <td>49</td>\n",
              "      <td>1</td>\n",
              "      <td>4</td>\n",
              "      <td>234</td>\n",
              "      <td>0</td>\n",
              "      <td>0</td>\n",
              "      <td>140</td>\n",
              "      <td>1</td>\n",
              "      <td>1.0</td>\n",
              "      <td>2</td>\n",
              "      <td>1</td>\n",
              "      <td>140</td>\n",
              "    </tr>\n",
              "    <tr>\n",
              "      <th>...</th>\n",
              "      <td>...</td>\n",
              "      <td>...</td>\n",
              "      <td>...</td>\n",
              "      <td>...</td>\n",
              "      <td>...</td>\n",
              "      <td>...</td>\n",
              "      <td>...</td>\n",
              "      <td>...</td>\n",
              "      <td>...</td>\n",
              "      <td>...</td>\n",
              "      <td>...</td>\n",
              "      <td>...</td>\n",
              "    </tr>\n",
              "    <tr>\n",
              "      <th>1184</th>\n",
              "      <td>57</td>\n",
              "      <td>0</td>\n",
              "      <td>4</td>\n",
              "      <td>241</td>\n",
              "      <td>0</td>\n",
              "      <td>0</td>\n",
              "      <td>123</td>\n",
              "      <td>1</td>\n",
              "      <td>0.2</td>\n",
              "      <td>2</td>\n",
              "      <td>1</td>\n",
              "      <td>140</td>\n",
              "    </tr>\n",
              "    <tr>\n",
              "      <th>1185</th>\n",
              "      <td>45</td>\n",
              "      <td>1</td>\n",
              "      <td>1</td>\n",
              "      <td>264</td>\n",
              "      <td>0</td>\n",
              "      <td>0</td>\n",
              "      <td>132</td>\n",
              "      <td>0</td>\n",
              "      <td>1.2</td>\n",
              "      <td>2</td>\n",
              "      <td>1</td>\n",
              "      <td>110</td>\n",
              "    </tr>\n",
              "    <tr>\n",
              "      <th>1186</th>\n",
              "      <td>68</td>\n",
              "      <td>1</td>\n",
              "      <td>4</td>\n",
              "      <td>193</td>\n",
              "      <td>1</td>\n",
              "      <td>0</td>\n",
              "      <td>141</td>\n",
              "      <td>0</td>\n",
              "      <td>3.4</td>\n",
              "      <td>2</td>\n",
              "      <td>1</td>\n",
              "      <td>144</td>\n",
              "    </tr>\n",
              "    <tr>\n",
              "      <th>1187</th>\n",
              "      <td>57</td>\n",
              "      <td>1</td>\n",
              "      <td>4</td>\n",
              "      <td>131</td>\n",
              "      <td>0</td>\n",
              "      <td>0</td>\n",
              "      <td>115</td>\n",
              "      <td>1</td>\n",
              "      <td>1.2</td>\n",
              "      <td>2</td>\n",
              "      <td>1</td>\n",
              "      <td>130</td>\n",
              "    </tr>\n",
              "    <tr>\n",
              "      <th>1188</th>\n",
              "      <td>57</td>\n",
              "      <td>0</td>\n",
              "      <td>2</td>\n",
              "      <td>236</td>\n",
              "      <td>0</td>\n",
              "      <td>2</td>\n",
              "      <td>174</td>\n",
              "      <td>0</td>\n",
              "      <td>0.0</td>\n",
              "      <td>2</td>\n",
              "      <td>1</td>\n",
              "      <td>130</td>\n",
              "    </tr>\n",
              "  </tbody>\n",
              "</table>\n",
              "<p>629 rows × 12 columns</p>\n",
              "</div>\n",
              "      <button class=\"colab-df-convert\" onclick=\"convertToInteractive('df-4127c41a-3de7-4d31-a5d5-cc9920aa1bbf')\"\n",
              "              title=\"Convert this dataframe to an interactive table.\"\n",
              "              style=\"display:none;\">\n",
              "        \n",
              "  <svg xmlns=\"http://www.w3.org/2000/svg\" height=\"24px\"viewBox=\"0 0 24 24\"\n",
              "       width=\"24px\">\n",
              "    <path d=\"M0 0h24v24H0V0z\" fill=\"none\"/>\n",
              "    <path d=\"M18.56 5.44l.94 2.06.94-2.06 2.06-.94-2.06-.94-.94-2.06-.94 2.06-2.06.94zm-11 1L8.5 8.5l.94-2.06 2.06-.94-2.06-.94L8.5 2.5l-.94 2.06-2.06.94zm10 10l.94 2.06.94-2.06 2.06-.94-2.06-.94-.94-2.06-.94 2.06-2.06.94z\"/><path d=\"M17.41 7.96l-1.37-1.37c-.4-.4-.92-.59-1.43-.59-.52 0-1.04.2-1.43.59L10.3 9.45l-7.72 7.72c-.78.78-.78 2.05 0 2.83L4 21.41c.39.39.9.59 1.41.59.51 0 1.02-.2 1.41-.59l7.78-7.78 2.81-2.81c.8-.78.8-2.07 0-2.86zM5.41 20L4 18.59l7.72-7.72 1.47 1.35L5.41 20z\"/>\n",
              "  </svg>\n",
              "      </button>\n",
              "      \n",
              "  <style>\n",
              "    .colab-df-container {\n",
              "      display:flex;\n",
              "      flex-wrap:wrap;\n",
              "      gap: 12px;\n",
              "    }\n",
              "\n",
              "    .colab-df-convert {\n",
              "      background-color: #E8F0FE;\n",
              "      border: none;\n",
              "      border-radius: 50%;\n",
              "      cursor: pointer;\n",
              "      display: none;\n",
              "      fill: #1967D2;\n",
              "      height: 32px;\n",
              "      padding: 0 0 0 0;\n",
              "      width: 32px;\n",
              "    }\n",
              "\n",
              "    .colab-df-convert:hover {\n",
              "      background-color: #E2EBFA;\n",
              "      box-shadow: 0px 1px 2px rgba(60, 64, 67, 0.3), 0px 1px 3px 1px rgba(60, 64, 67, 0.15);\n",
              "      fill: #174EA6;\n",
              "    }\n",
              "\n",
              "    [theme=dark] .colab-df-convert {\n",
              "      background-color: #3B4455;\n",
              "      fill: #D2E3FC;\n",
              "    }\n",
              "\n",
              "    [theme=dark] .colab-df-convert:hover {\n",
              "      background-color: #434B5C;\n",
              "      box-shadow: 0px 1px 3px 1px rgba(0, 0, 0, 0.15);\n",
              "      filter: drop-shadow(0px 1px 2px rgba(0, 0, 0, 0.3));\n",
              "      fill: #FFFFFF;\n",
              "    }\n",
              "  </style>\n",
              "\n",
              "      <script>\n",
              "        const buttonEl =\n",
              "          document.querySelector('#df-4127c41a-3de7-4d31-a5d5-cc9920aa1bbf button.colab-df-convert');\n",
              "        buttonEl.style.display =\n",
              "          google.colab.kernel.accessAllowed ? 'block' : 'none';\n",
              "\n",
              "        async function convertToInteractive(key) {\n",
              "          const element = document.querySelector('#df-4127c41a-3de7-4d31-a5d5-cc9920aa1bbf');\n",
              "          const dataTable =\n",
              "            await google.colab.kernel.invokeFunction('convertToInteractive',\n",
              "                                                     [key], {});\n",
              "          if (!dataTable) return;\n",
              "\n",
              "          const docLinkHtml = 'Like what you see? Visit the ' +\n",
              "            '<a target=\"_blank\" href=https://colab.research.google.com/notebooks/data_table.ipynb>data table notebook</a>'\n",
              "            + ' to learn more about interactive tables.';\n",
              "          element.innerHTML = '';\n",
              "          dataTable['output_type'] = 'display_data';\n",
              "          await google.colab.output.renderOutput(dataTable, element);\n",
              "          const docLink = document.createElement('div');\n",
              "          docLink.innerHTML = docLinkHtml;\n",
              "          element.appendChild(docLink);\n",
              "        }\n",
              "      </script>\n",
              "    </div>\n",
              "  </div>\n",
              "  "
            ]
          },
          "metadata": {},
          "execution_count": 44
        }
      ]
    },
    {
      "cell_type": "code",
      "source": [
        "df.query('resting_bp_s > 75', inplace=True)"
      ],
      "metadata": {
        "id": "YchUoIaQcp0L"
      },
      "execution_count": null,
      "outputs": []
    },
    {
      "cell_type": "code",
      "source": [
        "plt.figure(figsize = (10,8))\n",
        "plt.hist(df['resting_bp_s'])\n",
        "plt.xlabel('Resting blood pressure')\n",
        "plt.ylabel('Count')\n",
        "plt.title('BP Histogram')"
      ],
      "metadata": {
        "colab": {
          "base_uri": "https://localhost:8080/",
          "height": 536
        },
        "id": "AY8shBJrXgB4",
        "outputId": "5ca92441-bed2-45eb-8118-76a86ffd2262"
      },
      "execution_count": null,
      "outputs": [
        {
          "output_type": "execute_result",
          "data": {
            "text/plain": [
              "Text(0.5, 1.0, 'BP Histogram')"
            ]
          },
          "metadata": {},
          "execution_count": 46
        },
        {
          "output_type": "display_data",
          "data": {
            "text/plain": [
              "<Figure size 720x576 with 1 Axes>"
            ],
            "image/png": "[encoded data removed]"
          },
          "metadata": {}
        }
      ]
    },
    {
      "cell_type": "code",
      "source": [
        "len(df.query('resting_bp_s > 135 and target == 1'))/(len(df.query('resting_bp_s > 135')))"
      ],
      "metadata": {
        "colab": {
          "base_uri": "https://localhost:8080/"
        },
        "id": "JDHfElH4YBxD",
        "outputId": "b74f912e-425b-4f13-c0a4-f1f275f16ec5"
      },
      "execution_count": null,
      "outputs": [
        {
          "output_type": "execute_result",
          "data": {
            "text/plain": [
              "0.6025641025641025"
            ]
          },
          "metadata": {},
          "execution_count": 47
        }
      ]
    },
    {
      "cell_type": "code",
      "source": [
        "len(df.query('resting_bp_s < 120 and target == 1'))/(len(df.query('resting_bp_s < 120')))"
      ],
      "metadata": {
        "colab": {
          "base_uri": "https://localhost:8080/"
        },
        "id": "7v7H6DKVZIbb",
        "outputId": "145d8659-3b70-4eea-e2cd-862bd87e4f4a"
      },
      "execution_count": null,
      "outputs": [
        {
          "output_type": "execute_result",
          "data": {
            "text/plain": [
              "0.4908256880733945"
            ]
          },
          "metadata": {},
          "execution_count": 48
        }
      ]
    },
    {
      "cell_type": "code",
      "source": [
        "len(df.query('120 < resting_bp_s < 135 and target == 1'))/(len(df.query('120 < resting_bp_s < 135')))"
      ],
      "metadata": {
        "colab": {
          "base_uri": "https://localhost:8080/"
        },
        "id": "0K6VSRERZyVW",
        "outputId": "bdf04318-78df-4b86-8a8c-59fecf2bdf0e"
      },
      "execution_count": null,
      "outputs": [
        {
          "output_type": "execute_result",
          "data": {
            "text/plain": [
              "0.5080385852090032"
            ]
          },
          "metadata": {},
          "execution_count": 49
        }
      ]
    },
    {
      "cell_type": "code",
      "source": [
        "plt.matshow(df.corr())"
      ],
      "metadata": {
        "colab": {
          "base_uri": "https://localhost:8080/",
          "height": 298
        },
        "id": "HTukngNcaFZh",
        "outputId": "4e386df2-da7c-428a-895b-a8908964016b"
      },
      "execution_count": null,
      "outputs": [
        {
          "output_type": "execute_result",
          "data": {
            "text/plain": [
              "<matplotlib.image.AxesImage at 0x7fc88e0843d0>"
            ]
          },
          "metadata": {},
          "execution_count": 50
        },
        {
          "output_type": "display_data",
          "data": {
            "text/plain": [
              "<Figure size 288x288 with 1 Axes>"
            ],
            "image/png": "[encoded data removed]"
          },
          "metadata": {}
        }
      ]
    },
    {
      "cell_type": "code",
      "source": [
        "#split data\n",
        "from sklearn.model_selection import train_test_split\n",
        "x_train, x_test, y_train, y_test = train_test_split(X, y)"
      ],
      "metadata": {
        "id": "5g9oIldTIAlb"
      },
      "execution_count": null,
      "outputs": []
    },
    {
      "cell_type": "code",
      "source": [
        "from xgboost import XGBClassifier\n",
        "\n",
        "#import k_fold\n",
        "from sklearn.model_selection import KFold\n",
        "kfold_model = KFold(n_splits = 10, shuffle = True)\n",
        "\n",
        "#import GridSearchCV\n",
        "from sklearn.model_selection import GridSearchCV\n",
        "\n",
        "#picking params\n",
        "model = XGBClassifier()\n",
        "params = {'max_depth': [3, 4, 5, 6, 8], 'n_estimators': [50, 100, 200, 400], 'learning_rate': [0.01, 0.15, 0.2, 0.25, 0.5]}\n",
        "\n",
        "model2 = GridSearchCV(model, params, cv = kfold_model) \n",
        "model2.fit(x_train, y_train)"
      ],
      "metadata": {
        "id": "2HO_nfZ9avFw",
        "colab": {
          "base_uri": "https://localhost:8080/"
        },
        "outputId": "7ea03cd6-d191-4abc-dddb-aa39dac83d27"
      },
      "execution_count": null,
      "outputs": [
        {
          "output_type": "execute_result",
          "data": {
            "text/plain": [
              "GridSearchCV(cv=KFold(n_splits=10, random_state=None, shuffle=True),\n",
              "             estimator=XGBClassifier(),\n",
              "             param_grid={'learning_rate': [0.01, 0.15, 0.2, 0.25, 0.5],\n",
              "                         'max_depth': [3, 4, 5, 6, 8],\n",
              "                         'n_estimators': [50, 100, 200, 400]})"
            ]
          },
          "metadata": {},
          "execution_count": 83
        }
      ]
    },
    {
      "cell_type": "code",
      "source": [
        "print(model2.best_params_)\n",
        "print(model2.best_score_)"
      ],
      "metadata": {
        "colab": {
          "base_uri": "https://localhost:8080/"
        },
        "id": "9OjgDOffRFfu",
        "outputId": "b03a54d7-b5f1-4fc8-cbcb-ad9b9ff35a2c"
      },
      "execution_count": null,
      "outputs": [
        {
          "output_type": "stream",
          "name": "stdout",
          "text": [
            "{'learning_rate': 0.2, 'max_depth': 4, 'n_estimators': 200}\n",
            "0.9369956140350878\n"
          ]
        }
      ]
    },
    {
      "cell_type": "code",
      "source": [
        "from sklearn.metrics import confusion_matrix\n",
        "prediction = model2.predict(x_test)\n",
        "tn, fp, fn, tp = confusion_matrix(y_test, prediction).ravel()\n",
        "print(tn, fp, fn, tp)"
      ],
      "metadata": {
        "colab": {
          "base_uri": "https://localhost:8080/"
        },
        "id": "Yl8zSPIMT0o5",
        "outputId": "7633176e-ba15-4ff0-de40-c025c1011bc8"
      },
      "execution_count": null,
      "outputs": [
        {
          "output_type": "stream",
          "name": "stdout",
          "text": [
            "125 6 4 163\n"
          ]
        }
      ]
    },
    {
      "cell_type": "code",
      "source": [
        "from tensorflow import keras\n",
        "from keras import metrics"
      ],
      "metadata": {
        "id": "2QEmkBlXQCc5"
      },
      "execution_count": null,
      "outputs": []
    },
    {
      "cell_type": "code",
      "source": [
        "#Deep Neural Networks\n",
        "\n",
        "sample_optimizer = keras.optimizers.Adam(learning_rate=0.01, beta_1=0.7, beta_2=0.8)\n",
        "early_stopping_condition = keras.callbacks.EarlyStopping(monitor='val_loss', mode='auto', patience=15)\n",
        "plateau_monitor = keras.callbacks.ReduceLROnPlateau(monitor='val_loss', mode='auto', patience=5, factor=0.3, min_lr=0.00000001) \n",
        "sample_loss = keras.losses.BinaryCrossentropy() \n",
        "\n",
        "num_outputs = 1\n",
        "\n",
        "model3 = keras.Sequential()\n",
        "model3.add(keras.layers.Dense(6, input_dim=len(x_train.columns), activation='relu'))\n",
        "#model3.add(keras.layers.Dense(8, activation='relu'))\n",
        "model3.add(keras.layers.Dense(2, activation='relu'))\n",
        "model3.add(keras.layers.Dense(num_outputs, activation='sigmoid')) "
      ],
      "metadata": {
        "id": "4WzJulMyc3bP"
      },
      "execution_count": null,
      "outputs": []
    },
    {
      "cell_type": "code",
      "source": [
        "model3.compile(loss=sample_loss, optimizer=sample_optimizer)\n",
        "history = model3.fit(x_train, y_train, epochs=75, batch_size = 50, callbacks=[early_stopping_condition, plateau_monitor], validation_data=(x_test, y_test))"
      ],
      "metadata": {
        "colab": {
          "base_uri": "https://localhost:8080/"
        },
        "id": "uqIw0XnSQEJ0",
        "outputId": "608bbaff-de16-430f-ce17-a58cc2ce9650"
      },
      "execution_count": null,
      "outputs": [
        {
          "output_type": "stream",
          "name": "stdout",
          "text": [
            "Epoch 1/75\n",
            "18/18 [==============================] - 1s 12ms/step - loss: 19.0476 - val_loss: 1.9424 - lr: 0.0100\n",
            "Epoch 2/75\n",
            "18/18 [==============================] - 0s 6ms/step - loss: 0.9394 - val_loss: 0.6464 - lr: 0.0100\n",
            "Epoch 3/75\n",
            "18/18 [==============================] - 0s 5ms/step - loss: 0.5982 - val_loss: 0.6163 - lr: 0.0100\n",
            "Epoch 4/75\n",
            "18/18 [==============================] - 0s 4ms/step - loss: 0.5985 - val_loss: 0.5875 - lr: 0.0100\n",
            "Epoch 5/75\n",
            "18/18 [==============================] - 0s 6ms/step - loss: 0.5699 - val_loss: 0.6358 - lr: 0.0100\n",
            "Epoch 6/75\n",
            "18/18 [==============================] - 0s 4ms/step - loss: 0.5886 - val_loss: 0.5766 - lr: 0.0100\n",
            "Epoch 7/75\n",
            "18/18 [==============================] - 0s 5ms/step - loss: 0.5502 - val_loss: 0.5821 - lr: 0.0100\n",
            "Epoch 8/75\n",
            "18/18 [==============================] - 0s 4ms/step - loss: 0.5629 - val_loss: 0.5813 - lr: 0.0100\n",
            "Epoch 9/75\n",
            "18/18 [==============================] - 0s 4ms/step - loss: 0.5752 - val_loss: 0.5479 - lr: 0.0100\n",
            "Epoch 10/75\n",
            "18/18 [==============================] - 0s 5ms/step - loss: 0.5316 - val_loss: 0.5695 - lr: 0.0100\n",
            "Epoch 11/75\n",
            "18/18 [==============================] - 0s 5ms/step - loss: 0.5233 - val_loss: 0.6145 - lr: 0.0100\n",
            "Epoch 12/75\n",
            "18/18 [==============================] - 0s 5ms/step - loss: 0.5144 - val_loss: 0.5453 - lr: 0.0100\n",
            "Epoch 13/75\n",
            "18/18 [==============================] - 0s 5ms/step - loss: 0.4765 - val_loss: 0.5422 - lr: 0.0100\n",
            "Epoch 14/75\n",
            "18/18 [==============================] - 0s 5ms/step - loss: 0.4733 - val_loss: 0.4802 - lr: 0.0100\n",
            "Epoch 15/75\n",
            "18/18 [==============================] - 0s 4ms/step - loss: 0.4628 - val_loss: 0.4898 - lr: 0.0100\n",
            "Epoch 16/75\n",
            "18/18 [==============================] - 0s 4ms/step - loss: 0.4535 - val_loss: 0.4753 - lr: 0.0100\n",
            "Epoch 17/75\n",
            "18/18 [==============================] - 0s 5ms/step - loss: 0.4423 - val_loss: 0.4596 - lr: 0.0100\n",
            "Epoch 18/75\n",
            "18/18 [==============================] - 0s 6ms/step - loss: 0.4568 - val_loss: 0.4537 - lr: 0.0100\n",
            "Epoch 19/75\n",
            "18/18 [==============================] - 0s 4ms/step - loss: 0.4411 - val_loss: 0.5979 - lr: 0.0100\n",
            "Epoch 20/75\n",
            "18/18 [==============================] - 0s 4ms/step - loss: 0.4376 - val_loss: 0.4840 - lr: 0.0100\n",
            "Epoch 21/75\n",
            "18/18 [==============================] - 0s 4ms/step - loss: 0.4306 - val_loss: 0.5016 - lr: 0.0100\n",
            "Epoch 22/75\n",
            "18/18 [==============================] - 0s 4ms/step - loss: 0.4170 - val_loss: 0.4339 - lr: 0.0100\n",
            "Epoch 23/75\n",
            "18/18 [==============================] - 0s 4ms/step - loss: 0.4349 - val_loss: 0.4611 - lr: 0.0100\n",
            "Epoch 24/75\n",
            "18/18 [==============================] - 0s 5ms/step - loss: 0.4163 - val_loss: 0.4282 - lr: 0.0100\n",
            "Epoch 25/75\n",
            "18/18 [==============================] - 0s 5ms/step - loss: 0.4076 - val_loss: 0.4295 - lr: 0.0100\n",
            "Epoch 26/75\n",
            "18/18 [==============================] - 0s 5ms/step - loss: 0.4183 - val_loss: 0.4299 - lr: 0.0100\n",
            "Epoch 27/75\n",
            "18/18 [==============================] - 0s 5ms/step - loss: 0.3973 - val_loss: 0.4510 - lr: 0.0100\n",
            "Epoch 28/75\n",
            "18/18 [==============================] - 0s 5ms/step - loss: 0.4035 - val_loss: 0.4213 - lr: 0.0100\n",
            "Epoch 29/75\n",
            "18/18 [==============================] - 0s 5ms/step - loss: 0.4000 - val_loss: 0.4411 - lr: 0.0100\n",
            "Epoch 30/75\n",
            "18/18 [==============================] - 0s 5ms/step - loss: 0.4057 - val_loss: 0.4167 - lr: 0.0100\n",
            "Epoch 31/75\n",
            "18/18 [==============================] - 0s 5ms/step - loss: 0.4344 - val_loss: 0.4408 - lr: 0.0100\n",
            "Epoch 32/75\n",
            "18/18 [==============================] - 0s 4ms/step - loss: 0.4060 - val_loss: 0.4176 - lr: 0.0100\n",
            "Epoch 33/75\n",
            "18/18 [==============================] - 0s 5ms/step - loss: 0.3958 - val_loss: 0.4155 - lr: 0.0100\n",
            "Epoch 34/75\n",
            "18/18 [==============================] - 0s 4ms/step - loss: 0.4006 - val_loss: 0.4228 - lr: 0.0100\n",
            "Epoch 35/75\n",
            "18/18 [==============================] - 0s 5ms/step - loss: 0.4052 - val_loss: 0.4254 - lr: 0.0100\n",
            "Epoch 36/75\n",
            "18/18 [==============================] - 0s 5ms/step - loss: 0.3856 - val_loss: 0.4119 - lr: 0.0100\n",
            "Epoch 37/75\n",
            "18/18 [==============================] - 0s 4ms/step - loss: 0.4086 - val_loss: 0.4344 - lr: 0.0100\n",
            "Epoch 38/75\n",
            "18/18 [==============================] - 0s 5ms/step - loss: 0.3920 - val_loss: 0.4251 - lr: 0.0100\n",
            "Epoch 39/75\n",
            "18/18 [==============================] - 0s 5ms/step - loss: 0.3938 - val_loss: 0.4123 - lr: 0.0100\n",
            "Epoch 40/75\n",
            "18/18 [==============================] - 0s 4ms/step - loss: 0.3953 - val_loss: 0.4314 - lr: 0.0100\n",
            "Epoch 41/75\n",
            "18/18 [==============================] - 0s 4ms/step - loss: 0.3880 - val_loss: 0.4534 - lr: 0.0100\n",
            "Epoch 42/75\n",
            "18/18 [==============================] - 0s 4ms/step - loss: 0.3785 - val_loss: 0.4061 - lr: 0.0030\n",
            "Epoch 43/75\n",
            "18/18 [==============================] - 0s 5ms/step - loss: 0.3748 - val_loss: 0.4075 - lr: 0.0030\n",
            "Epoch 44/75\n",
            "18/18 [==============================] - 0s 4ms/step - loss: 0.3791 - val_loss: 0.4055 - lr: 0.0030\n",
            "Epoch 45/75\n",
            "18/18 [==============================] - 0s 5ms/step - loss: 0.3749 - val_loss: 0.4051 - lr: 0.0030\n",
            "Epoch 46/75\n",
            "18/18 [==============================] - 0s 5ms/step - loss: 0.3818 - val_loss: 0.4170 - lr: 0.0030\n",
            "Epoch 47/75\n",
            "18/18 [==============================] - 0s 5ms/step - loss: 0.3768 - val_loss: 0.4059 - lr: 0.0030\n",
            "Epoch 48/75\n",
            "18/18 [==============================] - 0s 6ms/step - loss: 0.3745 - val_loss: 0.4231 - lr: 0.0030\n",
            "Epoch 49/75\n",
            "18/18 [==============================] - 0s 5ms/step - loss: 0.3758 - val_loss: 0.4082 - lr: 0.0030\n",
            "Epoch 50/75\n",
            "18/18 [==============================] - 0s 4ms/step - loss: 0.3725 - val_loss: 0.4177 - lr: 0.0030\n",
            "Epoch 51/75\n",
            "18/18 [==============================] - 0s 5ms/step - loss: 0.3717 - val_loss: 0.4027 - lr: 9.0000e-04\n",
            "Epoch 52/75\n",
            "18/18 [==============================] - 0s 5ms/step - loss: 0.3702 - val_loss: 0.4053 - lr: 9.0000e-04\n",
            "Epoch 53/75\n",
            "18/18 [==============================] - 0s 5ms/step - loss: 0.3706 - val_loss: 0.4099 - lr: 9.0000e-04\n",
            "Epoch 54/75\n",
            "18/18 [==============================] - 0s 5ms/step - loss: 0.3713 - val_loss: 0.4020 - lr: 9.0000e-04\n",
            "Epoch 55/75\n",
            "18/18 [==============================] - 0s 5ms/step - loss: 0.3697 - val_loss: 0.4019 - lr: 9.0000e-04\n",
            "Epoch 56/75\n",
            "18/18 [==============================] - 0s 5ms/step - loss: 0.3713 - val_loss: 0.4050 - lr: 9.0000e-04\n",
            "Epoch 57/75\n",
            "18/18 [==============================] - 0s 4ms/step - loss: 0.3714 - val_loss: 0.4010 - lr: 9.0000e-04\n",
            "Epoch 58/75\n",
            "18/18 [==============================] - 0s 4ms/step - loss: 0.3687 - val_loss: 0.4108 - lr: 9.0000e-04\n",
            "Epoch 59/75\n",
            "18/18 [==============================] - 0s 5ms/step - loss: 0.3751 - val_loss: 0.4010 - lr: 9.0000e-04\n",
            "Epoch 60/75\n",
            "18/18 [==============================] - 0s 5ms/step - loss: 0.3706 - val_loss: 0.4014 - lr: 9.0000e-04\n",
            "Epoch 61/75\n",
            "18/18 [==============================] - 0s 5ms/step - loss: 0.3728 - val_loss: 0.4015 - lr: 9.0000e-04\n",
            "Epoch 62/75\n",
            "18/18 [==============================] - 0s 4ms/step - loss: 0.3670 - val_loss: 0.4119 - lr: 9.0000e-04\n",
            "Epoch 63/75\n",
            "18/18 [==============================] - 0s 5ms/step - loss: 0.3701 - val_loss: 0.4008 - lr: 2.7000e-04\n",
            "Epoch 64/75\n",
            "18/18 [==============================] - 0s 4ms/step - loss: 0.3682 - val_loss: 0.4009 - lr: 2.7000e-04\n",
            "Epoch 65/75\n",
            "18/18 [==============================] - 0s 5ms/step - loss: 0.3680 - val_loss: 0.4012 - lr: 2.7000e-04\n",
            "Epoch 66/75\n",
            "18/18 [==============================] - 0s 5ms/step - loss: 0.3678 - val_loss: 0.4012 - lr: 2.7000e-04\n",
            "Epoch 67/75\n",
            "18/18 [==============================] - 0s 4ms/step - loss: 0.3681 - val_loss: 0.4008 - lr: 2.7000e-04\n",
            "Epoch 68/75\n",
            "18/18 [==============================] - 0s 5ms/step - loss: 0.3689 - val_loss: 0.4008 - lr: 2.7000e-04\n",
            "Epoch 69/75\n",
            "18/18 [==============================] - 0s 4ms/step - loss: 0.3677 - val_loss: 0.4008 - lr: 8.1000e-05\n",
            "Epoch 70/75\n",
            "18/18 [==============================] - 0s 4ms/step - loss: 0.3673 - val_loss: 0.4011 - lr: 8.1000e-05\n",
            "Epoch 71/75\n",
            "18/18 [==============================] - 0s 5ms/step - loss: 0.3677 - val_loss: 0.4013 - lr: 8.1000e-05\n",
            "Epoch 72/75\n",
            "18/18 [==============================] - 0s 4ms/step - loss: 0.3679 - val_loss: 0.4009 - lr: 8.1000e-05\n",
            "Epoch 73/75\n",
            "18/18 [==============================] - 0s 4ms/step - loss: 0.3673 - val_loss: 0.4011 - lr: 8.1000e-05\n",
            "Epoch 74/75\n",
            "18/18 [==============================] - 0s 4ms/step - loss: 0.3673 - val_loss: 0.4012 - lr: 2.4300e-05\n",
            "Epoch 75/75\n",
            "18/18 [==============================] - 0s 6ms/step - loss: 0.3672 - val_loss: 0.4010 - lr: 2.4300e-05\n"
          ]
        }
      ]
    },
    {
      "cell_type": "code",
      "source": [
        "prediction = model3.predict(x_test)\n",
        "prediction = np.round(prediction)\n",
        "tn, fp, fn, tp = confusion_matrix(y_test, prediction).ravel()\n",
        "print(tn, fp, fn, tp)"
      ],
      "metadata": {
        "colab": {
          "base_uri": "https://localhost:8080/"
        },
        "id": "MUgBKVKZXI4c",
        "outputId": "716aefdd-93bf-4440-c19c-eacfde508701"
      },
      "execution_count": null,
      "outputs": [
        {
          "output_type": "stream",
          "name": "stdout",
          "text": [
            "105 26 19 148\n"
          ]
        }
      ]
    },
    {
      "cell_type": "code",
      "source": [
        "plt.figure()\n",
        "plt.plot(history.history['loss'], label = 'loss')\n",
        "plt.plot(history.history['val_loss'], label = 'val_loss')\n",
        "plt.xlabel('Epoch')\n",
        "plt.ylabel('Loss')\n",
        "plt.yscale('log')\n",
        "plt.legend()"
      ],
      "metadata": {
        "colab": {
          "base_uri": "https://localhost:8080/",
          "height": 303
        },
        "id": "n_1mwZX_QRKj",
        "outputId": "28cd8b9f-92da-4409-bfe2-28bf6e95d7f0"
      },
      "execution_count": null,
      "outputs": [
        {
          "output_type": "execute_result",
          "data": {
            "text/plain": [
              "<matplotlib.legend.Legend at 0x7fc883ec1b90>"
            ]
          },
          "metadata": {},
          "execution_count": 135
        },
        {
          "output_type": "display_data",
          "data": {
            "text/plain": [
              "<Figure size 432x288 with 1 Axes>"
            ],
            "image/png": "[encoded data removed]"
          },
          "metadata": {}
        }
      ]
    }
  ]
}